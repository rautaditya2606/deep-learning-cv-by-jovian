{
  "nbformat": 4,
  "nbformat_minor": 0,
  "metadata": {
    "colab": {
      "provenance": [],
      "authorship_tag": "ABX9TyMY8PzGrRt4pOazlPjv9Ed/",
      "include_colab_link": true
    },
    "kernelspec": {
      "name": "python3",
      "display_name": "Python 3"
    },
    "language_info": {
      "name": "python"
    }
  },
  "cells": [
    {
      "cell_type": "markdown",
      "metadata": {
        "id": "view-in-github",
        "colab_type": "text"
      },
      "source": [
        "<a href=\"https://colab.research.google.com/github/rautaditya2606/deep-learning-cv-by-jovian/blob/main/Zero_to_GANs_01.ipynb\" target=\"_parent\"><img src=\"https://colab.research.google.com/assets/colab-badge.svg\" alt=\"Open In Colab\"/></a>"
      ]
    },
    {
      "cell_type": "code",
      "execution_count": 140,
      "metadata": {
        "id": "gLRKysepd4wP"
      },
      "outputs": [],
      "source": [
        "import torch"
      ]
    },
    {
      "cell_type": "code",
      "source": [
        "t1 = torch.tensor(3.)\n",
        "t1, t1.dtype"
      ],
      "metadata": {
        "colab": {
          "base_uri": "https://localhost:8080/"
        },
        "id": "UburZJ5Bd_K5",
        "outputId": "41aeb23f-6e2d-40d0-f774-2f81a7edc338"
      },
      "execution_count": 141,
      "outputs": [
        {
          "output_type": "execute_result",
          "data": {
            "text/plain": [
              "(tensor(3.), torch.float32)"
            ]
          },
          "metadata": {},
          "execution_count": 141
        }
      ]
    },
    {
      "cell_type": "code",
      "source": [
        "t2 = torch.tensor([[[1.,2.,3.],\n",
        "                    [4.,5.,6.],\n",
        "                    [7.,8.,9.]]])"
      ],
      "metadata": {
        "id": "J_NqB9t9egqJ"
      },
      "execution_count": 142,
      "outputs": []
    },
    {
      "cell_type": "code",
      "source": [
        "t2, t2.dtype"
      ],
      "metadata": {
        "colab": {
          "base_uri": "https://localhost:8080/"
        },
        "id": "0Kvw_fEQgbjo",
        "outputId": "8a1934da-66ed-477e-a982-08eaba895fab"
      },
      "execution_count": 143,
      "outputs": [
        {
          "output_type": "execute_result",
          "data": {
            "text/plain": [
              "(tensor([[[1., 2., 3.],\n",
              "          [4., 5., 6.],\n",
              "          [7., 8., 9.]]]),\n",
              " torch.float32)"
            ]
          },
          "metadata": {},
          "execution_count": 143
        }
      ]
    },
    {
      "cell_type": "code",
      "source": [
        "t2.shape"
      ],
      "metadata": {
        "colab": {
          "base_uri": "https://localhost:8080/"
        },
        "id": "GT2S6KNugcJf",
        "outputId": "30f10722-47c0-4489-f4bf-604807799757"
      },
      "execution_count": 144,
      "outputs": [
        {
          "output_type": "execute_result",
          "data": {
            "text/plain": [
              "torch.Size([1, 3, 3])"
            ]
          },
          "metadata": {},
          "execution_count": 144
        }
      ]
    },
    {
      "cell_type": "code",
      "source": [
        "x = torch.tensor(3.)\n",
        "w = torch.tensor(4., requires_grad=True)\n",
        "b = torch.tensor(5., requires_grad=True)"
      ],
      "metadata": {
        "id": "gzGtnpeOgyXw"
      },
      "execution_count": 145,
      "outputs": []
    },
    {
      "cell_type": "code",
      "source": [
        "y = w * x + b\n",
        "y"
      ],
      "metadata": {
        "colab": {
          "base_uri": "https://localhost:8080/"
        },
        "id": "xw-9cxoAhh0Q",
        "outputId": "8fc7b2e1-296d-4d0b-ad86-67dff19e310f"
      },
      "execution_count": 146,
      "outputs": [
        {
          "output_type": "execute_result",
          "data": {
            "text/plain": [
              "tensor(17., grad_fn=<AddBackward0>)"
            ]
          },
          "metadata": {},
          "execution_count": 146
        }
      ]
    },
    {
      "cell_type": "code",
      "source": [
        "# computes derivatives\n",
        "y.backward()"
      ],
      "metadata": {
        "id": "nhb0IfeuiSs8"
      },
      "execution_count": 147,
      "outputs": []
    },
    {
      "cell_type": "code",
      "source": [
        "#display derivatives\n",
        "print('dy/dx', x.grad)\n",
        "print('dy/dw', w.grad)\n",
        "print('dy/db', b.grad)"
      ],
      "metadata": {
        "colab": {
          "base_uri": "https://localhost:8080/"
        },
        "id": "DZnvjVQOhviY",
        "outputId": "c27bb0d7-788c-489a-b44d-45394fa1fc46"
      },
      "execution_count": 148,
      "outputs": [
        {
          "output_type": "stream",
          "name": "stdout",
          "text": [
            "dy/dx None\n",
            "dy/dw tensor(3.)\n",
            "dy/db tensor(1.)\n"
          ]
        }
      ]
    },
    {
      "cell_type": "code",
      "source": [],
      "metadata": {
        "id": "jfV57PfsiP2g"
      },
      "execution_count": 148,
      "outputs": []
    },
    {
      "cell_type": "code",
      "source": [
        "t6 = torch.full([1,3,3], 18)\n",
        "t6"
      ],
      "metadata": {
        "colab": {
          "base_uri": "https://localhost:8080/"
        },
        "id": "qP7jnQVLixGU",
        "outputId": "da4597b2-dc1a-4172-b7e7-e65dc55da0d3"
      },
      "execution_count": 149,
      "outputs": [
        {
          "output_type": "execute_result",
          "data": {
            "text/plain": [
              "tensor([[[18, 18, 18],\n",
              "         [18, 18, 18],\n",
              "         [18, 18, 18]]])"
            ]
          },
          "metadata": {},
          "execution_count": 149
        }
      ]
    },
    {
      "cell_type": "code",
      "source": [
        "t7 = torch.cat((t2, t6))\n",
        "t7, t7.shape"
      ],
      "metadata": {
        "colab": {
          "base_uri": "https://localhost:8080/"
        },
        "id": "PwXh_CWwixEE",
        "outputId": "d060aa69-a643-4ef3-f3ba-b994fc438462"
      },
      "execution_count": 150,
      "outputs": [
        {
          "output_type": "execute_result",
          "data": {
            "text/plain": [
              "(tensor([[[ 1.,  2.,  3.],\n",
              "          [ 4.,  5.,  6.],\n",
              "          [ 7.,  8.,  9.]],\n",
              " \n",
              "         [[18., 18., 18.],\n",
              "          [18., 18., 18.],\n",
              "          [18., 18., 18.]]]),\n",
              " torch.Size([2, 3, 3]))"
            ]
          },
          "metadata": {},
          "execution_count": 150
        }
      ]
    },
    {
      "cell_type": "code",
      "source": [
        "t8 = torch.sin(t7)\n",
        "t8"
      ],
      "metadata": {
        "colab": {
          "base_uri": "https://localhost:8080/"
        },
        "id": "fKDnE9zPixBa",
        "outputId": "2d788a04-03cf-450a-d251-7936004a2f94"
      },
      "execution_count": 151,
      "outputs": [
        {
          "output_type": "execute_result",
          "data": {
            "text/plain": [
              "tensor([[[ 0.8415,  0.9093,  0.1411],\n",
              "         [-0.7568, -0.9589, -0.2794],\n",
              "         [ 0.6570,  0.9894,  0.4121]],\n",
              "\n",
              "        [[-0.7510, -0.7510, -0.7510],\n",
              "         [-0.7510, -0.7510, -0.7510],\n",
              "         [-0.7510, -0.7510, -0.7510]]])"
            ]
          },
          "metadata": {},
          "execution_count": 151
        }
      ]
    },
    {
      "cell_type": "code",
      "source": [
        "t9 = t7.reshape(3,3,2)\n",
        "t9"
      ],
      "metadata": {
        "colab": {
          "base_uri": "https://localhost:8080/"
        },
        "id": "y07lv_gFiw--",
        "outputId": "88be39e8-fbaa-4aa0-ab29-b325a6b15968"
      },
      "execution_count": 152,
      "outputs": [
        {
          "output_type": "execute_result",
          "data": {
            "text/plain": [
              "tensor([[[ 1.,  2.],\n",
              "         [ 3.,  4.],\n",
              "         [ 5.,  6.]],\n",
              "\n",
              "        [[ 7.,  8.],\n",
              "         [ 9., 18.],\n",
              "         [18., 18.]],\n",
              "\n",
              "        [[18., 18.],\n",
              "         [18., 18.],\n",
              "         [18., 18.]]])"
            ]
          },
          "metadata": {},
          "execution_count": 152
        }
      ]
    },
    {
      "cell_type": "code",
      "source": [],
      "metadata": {
        "id": "S9cMb6Eviw8s"
      },
      "execution_count": 152,
      "outputs": []
    },
    {
      "cell_type": "code",
      "source": [
        "# integration of numpy and pytorch"
      ],
      "metadata": {
        "id": "4lD_kHRZiw6a"
      },
      "execution_count": 153,
      "outputs": []
    },
    {
      "cell_type": "code",
      "source": [
        "import numpy as np\n",
        "\n",
        "x = np.array([[1.,2.],\n",
        "              [3.,4.]])\n",
        "x, x.dtype"
      ],
      "metadata": {
        "id": "BIT2yaLwiw4S",
        "colab": {
          "base_uri": "https://localhost:8080/"
        },
        "outputId": "da741981-dbdf-459c-8782-1781bee56a2e"
      },
      "execution_count": 154,
      "outputs": [
        {
          "output_type": "execute_result",
          "data": {
            "text/plain": [
              "(array([[1., 2.],\n",
              "        [3., 4.]]),\n",
              " dtype('float64'))"
            ]
          },
          "metadata": {},
          "execution_count": 154
        }
      ]
    },
    {
      "cell_type": "code",
      "source": [
        "y = torch.from_numpy(x).type(torch.float32)\n",
        "y, y.dtype"
      ],
      "metadata": {
        "id": "GAzA5jrBiw2K",
        "colab": {
          "base_uri": "https://localhost:8080/"
        },
        "outputId": "ad7a2ec5-a36e-4541-aeef-6baa4458bb83"
      },
      "execution_count": 155,
      "outputs": [
        {
          "output_type": "execute_result",
          "data": {
            "text/plain": [
              "(tensor([[1., 2.],\n",
              "         [3., 4.]]),\n",
              " torch.float32)"
            ]
          },
          "metadata": {},
          "execution_count": 155
        }
      ]
    },
    {
      "cell_type": "code",
      "source": [],
      "metadata": {
        "id": "Qk_qmTnsiw0A"
      },
      "execution_count": 155,
      "outputs": []
    },
    {
      "cell_type": "code",
      "source": [
        "# linear regression model"
      ],
      "metadata": {
        "id": "KVDv5Mtxiwx8"
      },
      "execution_count": 156,
      "outputs": []
    },
    {
      "cell_type": "code",
      "source": [
        "# inputs (temp, rainfall ,humidity)\n",
        "num_inputs = np.array([[73, 67, 43],\n",
        "                   [91, 88, 64],\n",
        "                   [87, 134, 58],\n",
        "                   [102, 43, 37],\n",
        "                   [69, 96, 70]])"
      ],
      "metadata": {
        "id": "-rahY04Viwvu"
      },
      "execution_count": 157,
      "outputs": []
    },
    {
      "cell_type": "code",
      "source": [
        "num_targets = np.array([[56,70],\n",
        "                    [81,101],\n",
        "                    [119, 133],\n",
        "                    [22, 37],\n",
        "                    [103, 119]], dtype='float32')"
      ],
      "metadata": {
        "id": "AFcp6d5Owe6p"
      },
      "execution_count": 158,
      "outputs": []
    },
    {
      "cell_type": "code",
      "source": [
        "# convert np array to torch tensor\n",
        "inputs = torch.from_numpy(num_inputs)\n",
        "targets = torch.from_numpy(num_targets)"
      ],
      "metadata": {
        "id": "f23E2gChw_36"
      },
      "execution_count": 189,
      "outputs": []
    },
    {
      "cell_type": "code",
      "source": [
        "inputs = inputs.type(torch.float32)\n",
        "targets = targets.type(torch.float32)"
      ],
      "metadata": {
        "id": "rQcMhp1-xQRZ"
      },
      "execution_count": 190,
      "outputs": []
    },
    {
      "cell_type": "code",
      "source": [
        "w = torch.randn(2, 3, requires_grad=True)\n",
        "b = torch.randn(2, requires_grad = True)\n",
        "w, b"
      ],
      "metadata": {
        "colab": {
          "base_uri": "https://localhost:8080/"
        },
        "id": "SnKKyx4xxaeQ",
        "outputId": "313ced31-2d5c-4fe3-9b95-c64691332513"
      },
      "execution_count": 191,
      "outputs": [
        {
          "output_type": "execute_result",
          "data": {
            "text/plain": [
              "(tensor([[ 0.9097, -0.0416,  0.4657],\n",
              "         [-1.4288,  0.9336, -0.8311]], requires_grad=True),\n",
              " tensor([1.1280, 0.6053], requires_grad=True))"
            ]
          },
          "metadata": {},
          "execution_count": 191
        }
      ]
    },
    {
      "cell_type": "code",
      "source": [
        "inputs"
      ],
      "metadata": {
        "colab": {
          "base_uri": "https://localhost:8080/"
        },
        "id": "iqjcz21Iyvi2",
        "outputId": "f3d50cce-a96f-4ac1-c0f4-3de377908cdd"
      },
      "execution_count": 192,
      "outputs": [
        {
          "output_type": "execute_result",
          "data": {
            "text/plain": [
              "tensor([[ 73.,  67.,  43.],\n",
              "        [ 91.,  88.,  64.],\n",
              "        [ 87., 134.,  58.],\n",
              "        [102.,  43.,  37.],\n",
              "        [ 69.,  96.,  70.]])"
            ]
          },
          "metadata": {},
          "execution_count": 192
        }
      ]
    },
    {
      "cell_type": "code",
      "source": [
        "inputs @ w.T + b"
      ],
      "metadata": {
        "colab": {
          "base_uri": "https://localhost:8080/"
        },
        "id": "miYuNk8CyvgL",
        "outputId": "5bf3d3f9-8a95-4e0c-c1f7-19fdf21d334c"
      },
      "execution_count": 193,
      "outputs": [
        {
          "output_type": "execute_result",
          "data": {
            "text/plain": [
              "tensor([[  84.7705,  -76.8813],\n",
              "        [ 110.0502, -100.4466],\n",
              "        [ 101.7019,  -46.7980],\n",
              "        [ 109.3565, -135.7370],\n",
              "        [  92.4982,  -66.5305]], grad_fn=<AddBackward0>)"
            ]
          },
          "metadata": {},
          "execution_count": 193
        }
      ]
    },
    {
      "cell_type": "code",
      "source": [
        "def model(x):\n",
        "  return x @ w.T + b"
      ],
      "metadata": {
        "id": "VTx3jiwVx-jA"
      },
      "execution_count": 194,
      "outputs": []
    },
    {
      "cell_type": "code",
      "source": [
        "preds = model(inputs)\n",
        "preds"
      ],
      "metadata": {
        "colab": {
          "base_uri": "https://localhost:8080/"
        },
        "id": "rm5DNxwgyW7w",
        "outputId": "c037788e-78a8-4a3c-cd51-8f9204feb39b"
      },
      "execution_count": 195,
      "outputs": [
        {
          "output_type": "execute_result",
          "data": {
            "text/plain": [
              "tensor([[  84.7705,  -76.8813],\n",
              "        [ 110.0502, -100.4466],\n",
              "        [ 101.7019,  -46.7980],\n",
              "        [ 109.3565, -135.7370],\n",
              "        [  92.4982,  -66.5305]], grad_fn=<AddBackward0>)"
            ]
          },
          "metadata": {},
          "execution_count": 195
        }
      ]
    },
    {
      "cell_type": "code",
      "source": [
        "targets"
      ],
      "metadata": {
        "colab": {
          "base_uri": "https://localhost:8080/"
        },
        "id": "4Sa6cEHkzS3J",
        "outputId": "c76e3f09-d993-487c-8081-978f31359b78"
      },
      "execution_count": 196,
      "outputs": [
        {
          "output_type": "execute_result",
          "data": {
            "text/plain": [
              "tensor([[ 56.,  70.],\n",
              "        [ 81., 101.],\n",
              "        [119., 133.],\n",
              "        [ 22.,  37.],\n",
              "        [103., 119.]])"
            ]
          },
          "metadata": {},
          "execution_count": 196
        }
      ]
    },
    {
      "cell_type": "code",
      "source": [
        "def mse(preds, targets):\n",
        "  diff = preds - targets\n",
        "  return torch.sum(diff * diff) / diff.numel()"
      ],
      "metadata": {
        "id": "FzJh0Vg7zhox"
      },
      "execution_count": 197,
      "outputs": []
    },
    {
      "cell_type": "code",
      "source": [
        "loss = mse(preds, targets)"
      ],
      "metadata": {
        "id": "8-RIEbZI1Mdy"
      },
      "execution_count": 198,
      "outputs": []
    },
    {
      "cell_type": "code",
      "source": [
        "# compute gradient\n",
        "loss.backward()"
      ],
      "metadata": {
        "id": "BTXakGaz1SCC"
      },
      "execution_count": 199,
      "outputs": []
    },
    {
      "cell_type": "code",
      "source": [
        "w, w.grad"
      ],
      "metadata": {
        "colab": {
          "base_uri": "https://localhost:8080/"
        },
        "id": "0yLqUeSj25AC",
        "outputId": "ccb42a89-2056-49a5-ade0-b87bb0ae04a9"
      },
      "execution_count": 200,
      "outputs": [
        {
          "output_type": "execute_result",
          "data": {
            "text/plain": [
              "(tensor([[ 0.9097, -0.0416,  0.4657],\n",
              "         [-1.4288,  0.9336, -0.8311]], requires_grad=True),\n",
              " tensor([[  2284.9226,    982.8491,    918.0232],\n",
              "         [-15023.4365, -15379.9805,  -9803.0342]]))"
            ]
          },
          "metadata": {},
          "execution_count": 200
        }
      ]
    },
    {
      "cell_type": "code",
      "source": [
        "b, b.grad"
      ],
      "metadata": {
        "colab": {
          "base_uri": "https://localhost:8080/"
        },
        "id": "DOu7lk7h3Do6",
        "outputId": "158526db-1f9e-4622-c0f2-d0a00067a52a"
      },
      "execution_count": 201,
      "outputs": [
        {
          "output_type": "execute_result",
          "data": {
            "text/plain": [
              "(tensor([1.1280, 0.6053], requires_grad=True), tensor([  23.4754, -177.2787]))"
            ]
          },
          "metadata": {},
          "execution_count": 201
        }
      ]
    },
    {
      "cell_type": "code",
      "source": [
        "with torch.no_grad():\n",
        "    w -= w.grad * 1e-5\n",
        "    b -= b.grad * 1e-5"
      ],
      "metadata": {
        "id": "wROCDvKk3Z67"
      },
      "execution_count": 217,
      "outputs": []
    },
    {
      "cell_type": "code",
      "source": [
        "w, b"
      ],
      "metadata": {
        "colab": {
          "base_uri": "https://localhost:8080/"
        },
        "id": "UUXmKwHT5_eN",
        "outputId": "6c79b1a6-c1c6-497c-c363-3b736010dc1a"
      },
      "execution_count": 218,
      "outputs": [
        {
          "output_type": "execute_result",
          "data": {
            "text/plain": [
              "(tensor([[ 0.7726, -0.1006,  0.4106],\n",
              "         [-0.5274,  1.8564, -0.2429]], requires_grad=True),\n",
              " tensor([1.1266, 0.6159], requires_grad=True))"
            ]
          },
          "metadata": {},
          "execution_count": 218
        }
      ]
    },
    {
      "cell_type": "code",
      "source": [
        "loss = mse(model(inputs), targets)\n",
        "loss"
      ],
      "metadata": {
        "colab": {
          "base_uri": "https://localhost:8080/"
        },
        "id": "mavzWQJb6Up-",
        "outputId": "6773d8a0-7a96-4eb8-afc7-6c6dab40f33a"
      },
      "execution_count": 219,
      "outputs": [
        {
          "output_type": "execute_result",
          "data": {
            "text/plain": [
              "tensor(1107.8596, grad_fn=<DivBackward0>)"
            ]
          },
          "metadata": {},
          "execution_count": 219
        }
      ]
    },
    {
      "cell_type": "code",
      "source": [],
      "metadata": {
        "id": "1hquLbRh6lYN"
      },
      "execution_count": 219,
      "outputs": []
    },
    {
      "cell_type": "markdown",
      "source": [
        "# Steps to train model using gradient descent\n",
        "\n",
        "1. Generate prediction\n",
        "2. Calculate Loss\n",
        "3. Compute gradient w.r.t. the weights and biases\n",
        "4. Adjust the weight by subtracting a small quantity proportional to the gradient\n",
        "5. Reset the gradient to zero\n",
        "\n"
      ],
      "metadata": {
        "id": "IHUERmET96Dd"
      }
    },
    {
      "cell_type": "code",
      "source": [
        "preds = model(inputs)\n",
        "preds"
      ],
      "metadata": {
        "colab": {
          "base_uri": "https://localhost:8080/"
        },
        "id": "vaacnXcp950Z",
        "outputId": "40ab4c70-6b1c-4880-9484-80fda9e3e291"
      },
      "execution_count": 248,
      "outputs": [
        {
          "output_type": "execute_result",
          "data": {
            "text/plain": [
              "tensor([[ 64.2379, 113.0109],\n",
              "        [ 83.5494, 148.9533],\n",
              "        [ 74.0369, 245.7579],\n",
              "        [ 84.7477,  55.3760],\n",
              "        [ 69.5146, 171.4496]], grad_fn=<AddBackward0>)"
            ]
          },
          "metadata": {},
          "execution_count": 248
        }
      ]
    },
    {
      "cell_type": "code",
      "source": [
        "loss = mse(preds, targets)\n",
        "loss"
      ],
      "metadata": {
        "colab": {
          "base_uri": "https://localhost:8080/"
        },
        "id": "Shyj8QOb95yJ",
        "outputId": "e82507a8-0ead-46bf-d72d-ef42a43d8cea"
      },
      "execution_count": 249,
      "outputs": [
        {
          "output_type": "execute_result",
          "data": {
            "text/plain": [
              "tensor(2710.7017, grad_fn=<DivBackward0>)"
            ]
          },
          "metadata": {},
          "execution_count": 249
        }
      ]
    },
    {
      "cell_type": "code",
      "source": [
        "loss.backward()\n",
        "w.grad, b.grad"
      ],
      "metadata": {
        "colab": {
          "base_uri": "https://localhost:8080/"
        },
        "id": "qQhn9Hts95v3",
        "outputId": "c592026b-c5c7-4957-b592-4256845c8884"
      },
      "execution_count": 250,
      "outputs": [
        {
          "output_type": "execute_result",
          "data": {
            "text/plain": [
              "(tensor([[  202.2683, -1153.0433,  -422.5566],\n",
              "         [ 4561.3701,  5607.3018,  3161.9641]]),\n",
              " tensor([-0.9827, 54.9095]))"
            ]
          },
          "metadata": {},
          "execution_count": 250
        }
      ]
    },
    {
      "cell_type": "code",
      "source": [
        "with torch.no_grad():\n",
        "  w -= w.grad * 1e-5\n",
        "  b -= b.grad * 1e-5\n",
        "\n",
        "  w.grad.zero_()\n",
        "  b.grad.zero_()"
      ],
      "metadata": {
        "id": "AHSN2zkd95tl"
      },
      "execution_count": 251,
      "outputs": []
    },
    {
      "cell_type": "code",
      "source": [],
      "metadata": {
        "id": "muuDe04R95rR"
      },
      "execution_count": 251,
      "outputs": []
    },
    {
      "cell_type": "code",
      "source": [
        "# check new weights and biases"
      ],
      "metadata": {
        "id": "a9YWgS4p95pQ"
      },
      "execution_count": 252,
      "outputs": []
    },
    {
      "cell_type": "code",
      "source": [
        "w, b"
      ],
      "metadata": {
        "colab": {
          "base_uri": "https://localhost:8080/"
        },
        "id": "EJOE73sF95m5",
        "outputId": "07fd0671-cbe5-4891-faaf-0e4720f8162b"
      },
      "execution_count": 253,
      "outputs": [
        {
          "output_type": "execute_result",
          "data": {
            "text/plain": [
              "(tensor([[ 0.7115, -0.0810,  0.4047],\n",
              "         [-0.3439,  2.0096, -0.1301]], requires_grad=True),\n",
              " tensor([1.1261, 0.6181], requires_grad=True))"
            ]
          },
          "metadata": {},
          "execution_count": 253
        }
      ]
    },
    {
      "cell_type": "code",
      "source": [
        "preds = model(inputs)\n",
        "loss = mse(preds, targets)\n",
        "loss"
      ],
      "metadata": {
        "colab": {
          "base_uri": "https://localhost:8080/"
        },
        "id": "VvIppH1O95jM",
        "outputId": "05a56047-2fe2-4057-9cc3-786c9d5ce5ba"
      },
      "execution_count": 254,
      "outputs": [
        {
          "output_type": "execute_result",
          "data": {
            "text/plain": [
              "tensor(2128.8840, grad_fn=<DivBackward0>)"
            ]
          },
          "metadata": {},
          "execution_count": 254
        }
      ]
    },
    {
      "cell_type": "markdown",
      "source": [
        "# Train for 100 epochs"
      ],
      "metadata": {
        "id": "q_ihh_ct_ihW"
      }
    },
    {
      "cell_type": "code",
      "source": [
        "for i in range(100):\n",
        "  preds = model(inputs)\n",
        "  loss = mse(preds, targets)\n",
        "  loss.backward()\n",
        "  with torch.no_grad():\n",
        "    w -= w.grad * 1e-5\n",
        "    b -= b.grad * 1e-5\n",
        "    w.grad.zero_()\n",
        "    b.grad.zero_()"
      ],
      "metadata": {
        "id": "f2nZTH8u95gy"
      },
      "execution_count": 312,
      "outputs": []
    },
    {
      "cell_type": "code",
      "source": [
        "preds = model(inputs)\n",
        "loss = mse(preds, targets)\n",
        "loss"
      ],
      "metadata": {
        "colab": {
          "base_uri": "https://localhost:8080/"
        },
        "id": "uHN8ZdUV95cj",
        "outputId": "0b6a6d79-0937-4914-d34b-c7e446e62008"
      },
      "execution_count": 313,
      "outputs": [
        {
          "output_type": "execute_result",
          "data": {
            "text/plain": [
              "tensor(0.9408, grad_fn=<DivBackward0>)"
            ]
          },
          "metadata": {},
          "execution_count": 313
        }
      ]
    },
    {
      "cell_type": "code",
      "source": [],
      "metadata": {
        "id": "CXYfSXixAJYY"
      },
      "execution_count": null,
      "outputs": []
    }
  ]
}